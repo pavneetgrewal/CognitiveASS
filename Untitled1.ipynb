{
 "cells": [
  {
   "cell_type": "code",
   "execution_count": 1,
   "id": "7d36fe33-c951-4e7e-a442-f2d43b7da0b2",
   "metadata": {},
   "outputs": [
    {
     "data": {
      "text/plain": [
       "7"
      ]
     },
     "execution_count": 1,
     "metadata": {},
     "output_type": "execute_result"
    }
   ],
   "source": [
    "4^3"
   ]
  },
  {
   "cell_type": "code",
   "execution_count": 2,
   "id": "d133b5e9-25b7-451c-aa28-7acf429f21bb",
   "metadata": {},
   "outputs": [
    {
     "data": {
      "text/plain": [
       "1"
      ]
     },
     "execution_count": 2,
     "metadata": {},
     "output_type": "execute_result"
    }
   ],
   "source": [
    "2^3"
   ]
  },
  {
   "cell_type": "code",
   "execution_count": 3,
   "id": "79df1d44-5736-4966-927b-9a89bd60500a",
   "metadata": {},
   "outputs": [
    {
     "data": {
      "text/plain": [
       "14"
      ]
     },
     "execution_count": 3,
     "metadata": {},
     "output_type": "execute_result"
    }
   ],
   "source": [
    "2*5+7-4^3"
   ]
  },
  {
   "cell_type": "code",
   "execution_count": 4,
   "id": "fb098765-1a48-4ad7-a82f-bc9387731711",
   "metadata": {},
   "outputs": [],
   "source": [
    "a=12\n",
    "b=20"
   ]
  },
  {
   "cell_type": "code",
   "execution_count": 5,
   "id": "1e2c6f2b-fca5-480d-8e6a-e6453762e004",
   "metadata": {},
   "outputs": [
    {
     "data": {
      "text/plain": [
       "32"
      ]
     },
     "execution_count": 5,
     "metadata": {},
     "output_type": "execute_result"
    }
   ],
   "source": [
    "a+b"
   ]
  },
  {
   "cell_type": "code",
   "execution_count": 6,
   "id": "4e122cd8-ae88-42d5-8c4e-43aa531d0897",
   "metadata": {},
   "outputs": [
    {
     "data": {
      "text/plain": [
       "42"
      ]
     },
     "execution_count": 6,
     "metadata": {},
     "output_type": "execute_result"
    }
   ],
   "source": [
    "c= 10 + _\n",
    "c"
   ]
  },
  {
   "cell_type": "code",
   "execution_count": 8,
   "id": "292e75d9-7127-4313-b9bd-74c76d76ee65",
   "metadata": {},
   "outputs": [
    {
     "data": {
      "text/plain": [
       "'SSSP'"
      ]
     },
     "execution_count": 8,
     "metadata": {},
     "output_type": "execute_result"
    }
   ],
   "source": [
    "3 * 'S' + 'P'"
   ]
  },
  {
   "cell_type": "code",
   "execution_count": 9,
   "id": "a28025e2-18c9-4136-b25b-9982e80e0ffa",
   "metadata": {},
   "outputs": [
    {
     "data": {
      "text/plain": [
       "'M'"
      ]
     },
     "execution_count": 9,
     "metadata": {},
     "output_type": "execute_result"
    }
   ],
   "source": [
    "word = 'MachineLearning'\n",
    "word[0]\n"
   ]
  },
  {
   "cell_type": "code",
   "execution_count": 10,
   "id": "efb00f8a-20c7-43e9-b5c3-0f026a10e6f1",
   "metadata": {},
   "outputs": [
    {
     "data": {
      "text/plain": [
       "'Mach'"
      ]
     },
     "execution_count": 10,
     "metadata": {},
     "output_type": "execute_result"
    }
   ],
   "source": [
    "word[-2]\n",
    "word[0:4]"
   ]
  },
  {
   "cell_type": "code",
   "execution_count": 11,
   "id": "d3e9ea55-6881-49b1-b4f5-c762e2d2b976",
   "metadata": {},
   "outputs": [
    {
     "data": {
      "text/plain": [
       "'in'"
      ]
     },
     "execution_count": 11,
     "metadata": {},
     "output_type": "execute_result"
    }
   ],
   "source": [
    "word[-3:-1]"
   ]
  },
  {
   "cell_type": "code",
   "execution_count": 12,
   "id": "8d355ada-4ce4-429f-9eb6-28f7895c02c2",
   "metadata": {},
   "outputs": [
    {
     "data": {
      "text/plain": [
       "'JachineLearning'"
      ]
     },
     "execution_count": 12,
     "metadata": {},
     "output_type": "execute_result"
    }
   ],
   "source": [
    "'J' + word[1:]"
   ]
  },
  {
   "cell_type": "code",
   "execution_count": 13,
   "id": "c8412785-03f8-48de-889e-f496971ce93a",
   "metadata": {},
   "outputs": [
    {
     "data": {
      "text/plain": [
       "15"
      ]
     },
     "execution_count": 13,
     "metadata": {},
     "output_type": "execute_result"
    }
   ],
   "source": [
    "len(word)"
   ]
  },
  {
   "cell_type": "code",
   "execution_count": 16,
   "id": "589a7422-6944-4df7-8f88-b037cf10569d",
   "metadata": {},
   "outputs": [
    {
     "name": "stdout",
     "output_type": "stream",
     "text": [
      "7 7 7 "
     ]
    }
   ],
   "source": [
    "for i in range(3):\n",
    "    print(7, end=' ')"
   ]
  },
  {
   "cell_type": "code",
   "execution_count": 17,
   "id": "bbf7e1e1-5d68-4a99-a592-bce61a452917",
   "metadata": {},
   "outputs": [
    {
     "name": "stdout",
     "output_type": "stream",
     "text": [
      "7\n",
      "7\n",
      "7\n"
     ]
    }
   ],
   "source": [
    "for i in range(3):\n",
    "    print(7)"
   ]
  },
  {
   "cell_type": "code",
   "execution_count": 20,
   "id": "8d46cbc5-8f89-4b79-885e-5e667909494a",
   "metadata": {},
   "outputs": [
    {
     "name": "stdout",
     "output_type": "stream",
     "text": [
      "   calories  value\n",
      "0       200     40\n",
      "1       250     45\n",
      "2       300     55\n"
     ]
    }
   ],
   "source": [
    "import pandas as pd\n",
    "data = {\n",
    "    'calories' : [200,250,300],\n",
    "    'value' : [40,45,55]\n",
    "}\n",
    "df = pd.DataFrame(data)\n",
    "print(df)"
   ]
  },
  {
   "cell_type": "code",
   "execution_count": 21,
   "id": "6bc50806-3ceb-4e98-a8d9-e0c326ee5f7f",
   "metadata": {},
   "outputs": [
    {
     "name": "stdout",
     "output_type": "stream",
     "text": [
      "calories    250\n",
      "value        45\n",
      "Name: 1, dtype: int64\n"
     ]
    }
   ],
   "source": [
    "print(df.loc[1])"
   ]
  },
  {
   "cell_type": "code",
   "execution_count": 21,
   "id": "be296e2a-fd24-40c4-9314-80d835743f93",
   "metadata": {},
   "outputs": [
    {
     "name": "stdout",
     "output_type": "stream",
     "text": [
      "p    1\n",
      "q    7\n",
      "r    2\n",
      "dtype: int64\n"
     ]
    },
    {
     "data": {
      "text/plain": [
       "[21, 7, 2]"
      ]
     },
     "execution_count": 21,
     "metadata": {},
     "output_type": "execute_result"
    }
   ],
   "source": [
    "import pandas as pd\n",
    "\n",
    "a = [1, 7, 2]\n",
    "\n",
    "data1 = pd.Series(a, index = ['p', 'q', 'r'])\n",
    "\n",
    "print(data1)\n",
    "a[0] = 21\n",
    "a"
   ]
  },
  {
   "cell_type": "code",
   "execution_count": 22,
   "id": "a96c75aa-2cab-4339-bdbd-04d43e5cebf2",
   "metadata": {},
   "outputs": [
    {
     "name": "stdout",
     "output_type": "stream",
     "text": [
      "0    RCB\n",
      "1     GT\n",
      "2     MI\n",
      "3     DC\n",
      "Name: Team, dtype: object\n"
     ]
    }
   ],
   "source": [
    "import pandas as pd\n",
    "file = {\n",
    "    'jersey_no' : [18,77,10,1],\n",
    "    'Name' : ['Kohli', 'Gill', 'Sachin','Rahul'],\n",
    "    'Team' : ['RCB', 'GT' , 'MI', 'DC'],\n",
    "    'Age' : [37,25,50,32]\n",
    "}\n",
    "df1 = pd.DataFrame(file)\n",
    "# print(df1)\n",
    "# print(df1.iloc[0:2])\n",
    "print(df1.iloc[:,2])"
   ]
  },
  {
   "cell_type": "code",
   "execution_count": 23,
   "id": "0aa3676c-4343-4092-93ac-32e09322770d",
   "metadata": {},
   "outputs": [],
   "source": [
    "# import pandas as pd\n",
    "\n",
    "# df = pd.read_csv('customers-100.csv’)\n",
    "#  #show only first 5 rows\n",
    "# df.head()\n",
    "# #show all the rows\n",
    "# print(df.to_string())\n",
    "# #show last 5 rows\n",
    "# print(\"\\nLast 5 rows:\")\n",
    "# print(df.tail(5))"
   ]
  },
  {
   "cell_type": "code",
   "execution_count": 24,
   "id": "c7eed047-554b-4ded-9182-055c6f5f8c16",
   "metadata": {},
   "outputs": [
    {
     "data": {
      "text/plain": [
       "(2, 5)"
      ]
     },
     "execution_count": 24,
     "metadata": {},
     "output_type": "execute_result"
    }
   ],
   "source": [
    "import numpy as np\n",
    "a = np.array([[0,1,2,3,4],[2,3,4,7,9]])\n",
    "type(a)\n",
    "a.dtype\n",
    "a.size\n",
    "a.ndim\n",
    "a.shape"
   ]
  },
  {
   "cell_type": "code",
   "execution_count": 18,
   "id": "896a0da1-6c64-4511-ab2e-eff74d7245b0",
   "metadata": {},
   "outputs": [
    {
     "data": {
      "text/plain": [
       "array([ 9, 71])"
      ]
     },
     "execution_count": 18,
     "metadata": {},
     "output_type": "execute_result"
    }
   ],
   "source": [
    "c = np.array([20,9,71,48])\n",
    "c\n",
    "c[0]\n",
    "d = c[1:3]\n",
    "d"
   ]
  },
  {
   "cell_type": "code",
   "execution_count": null,
   "id": "d2e6ef9d-fc83-49ba-9dfc-b358464db756",
   "metadata": {},
   "outputs": [],
   "source": []
  }
 ],
 "metadata": {
  "kernelspec": {
   "display_name": "Python 3 (ipykernel)",
   "language": "python",
   "name": "python3"
  },
  "language_info": {
   "codemirror_mode": {
    "name": "ipython",
    "version": 3
   },
   "file_extension": ".py",
   "mimetype": "text/x-python",
   "name": "python",
   "nbconvert_exporter": "python",
   "pygments_lexer": "ipython3",
   "version": "3.11.4"
  }
 },
 "nbformat": 4,
 "nbformat_minor": 5
}
